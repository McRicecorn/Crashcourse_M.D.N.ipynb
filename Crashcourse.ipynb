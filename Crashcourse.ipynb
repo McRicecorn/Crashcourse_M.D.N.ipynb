{
 "cells": [
  {
   "cell_type": "code",
   "execution_count": 2,
   "id": "d74687ed-4d79-442f-9890-037c5c273b1a",
   "metadata": {},
   "outputs": [
    {
     "name": "stdout",
     "output_type": "stream",
     "text": [
      "Hello world\n"
     ]
    }
   ],
   "source": [
    "print(\"Hello world\")"
   ]
  },
  {
   "cell_type": "code",
   "execution_count": 3,
   "id": "4ef8eaed-36b6-4ec4-abb8-10dcad81f2ea",
   "metadata": {},
   "outputs": [
    {
     "data": {
      "text/plain": [
       "748"
      ]
     },
     "execution_count": 3,
     "metadata": {},
     "output_type": "execute_result"
    }
   ],
   "source": [
    "22*34"
   ]
  },
  {
   "cell_type": "code",
   "execution_count": 4,
   "id": "c0eca1b0-da22-44f9-a835-143a4c3bf85c",
   "metadata": {},
   "outputs": [
    {
     "data": {
      "text/plain": [
       "9"
      ]
     },
     "execution_count": 4,
     "metadata": {},
     "output_type": "execute_result"
    }
   ],
   "source": [
    "b= 3\n",
    "b*3\n"
   ]
  },
  {
   "cell_type": "code",
   "execution_count": null,
   "id": "82803462-7cec-4bd5-9529-8f6113497a62",
   "metadata": {},
   "outputs": [],
   "source": [
    "c, d = 3, 4"
   ]
  },
  {
   "cell_type": "markdown",
   "id": "632277a5-1ea3-48a0-8fc5-9f7d0438feda",
   "metadata": {},
   "source": [
    "called unpacking"
   ]
  },
  {
   "cell_type": "code",
   "execution_count": 5,
   "id": "224f8a9b-1630-4c02-97b8-af990dc86fa2",
   "metadata": {},
   "outputs": [
    {
     "name": "stdout",
     "output_type": "stream",
     "text": [
      "3.1415 it is what it is\n"
     ]
    }
   ],
   "source": [
    "float = 3.1415\n",
    "string = 'it is what it is'\n",
    "print(float, string)\n",
    "#hahhahhaha its a comment"
   ]
  },
  {
   "cell_type": "code",
   "execution_count": 1,
   "id": "5f733f28-0d95-4aee-95ae-7bc9326ddbbf",
   "metadata": {},
   "outputs": [
    {
     "name": "stdout",
     "output_type": "stream",
     "text": [
      "Hello \"world\"\n",
      "A list:\n",
      "* item 1\n",
      "* item 2\n",
      "C:\\path\\on\\windows\n",
      "C:\\path\\on\\windows\n"
     ]
    }
   ],
   "source": [
    "print(\"Hello \\\"world\\\"\")\n",
    "print(\"A list:\\n* item 1\\n* item 2\")\n",
    "print(\"C:\\\\path\\\\on\\\\windows\")\n",
    "print(r\"C:\\path\\on\\windows\")"
   ]
  },
  {
   "cell_type": "code",
   "execution_count": 2,
   "id": "39e99f67-f5df-4214-b823-caa031bd32a8",
   "metadata": {},
   "outputs": [],
   "source": [
    "items = [1, 3, 0, 4, 1]"
   ]
  },
  {
   "cell_type": "code",
   "execution_count": 3,
   "id": "0c66510f-b279-4ec3-a3c4-2bb13424e919",
   "metadata": {},
   "outputs": [
    {
     "data": {
      "text/plain": [
       "5"
      ]
     },
     "execution_count": 3,
     "metadata": {},
     "output_type": "execute_result"
    }
   ],
   "source": [
    "len(items)"
   ]
  },
  {
   "cell_type": "code",
   "execution_count": 4,
   "id": "0fada9ad-3ce2-43c9-84db-d2647c89dd1f",
   "metadata": {},
   "outputs": [
    {
     "data": {
      "text/plain": [
       "9"
      ]
     },
     "execution_count": 4,
     "metadata": {},
     "output_type": "execute_result"
    }
   ],
   "source": [
    "sum(items)\n"
   ]
  },
  {
   "cell_type": "code",
   "execution_count": 5,
   "id": "7d45d848-5991-4acd-aa8b-fc362fba1704",
   "metadata": {},
   "outputs": [
    {
     "data": {
      "text/plain": [
       "1"
      ]
     },
     "execution_count": 5,
     "metadata": {},
     "output_type": "execute_result"
    }
   ],
   "source": [
    "items[0]"
   ]
  },
  {
   "cell_type": "code",
   "execution_count": 6,
   "id": "835b978b-2d4f-45aa-9f9f-a11b60da0ca8",
   "metadata": {},
   "outputs": [
    {
     "data": {
      "text/plain": [
       "1"
      ]
     },
     "execution_count": 6,
     "metadata": {},
     "output_type": "execute_result"
    }
   ],
   "source": [
    "items[-1]"
   ]
  },
  {
   "cell_type": "code",
   "execution_count": 7,
   "id": "e5448080-a61f-4dbb-bef6-4903767a183d",
   "metadata": {},
   "outputs": [
    {
     "data": {
      "text/plain": [
       "4"
      ]
     },
     "execution_count": 7,
     "metadata": {},
     "output_type": "execute_result"
    }
   ],
   "source": [
    "items[-2]"
   ]
  },
  {
   "cell_type": "code",
   "execution_count": 8,
   "id": "ab398e74-3e1c-4a6f-8c55-1af022d07cbd",
   "metadata": {},
   "outputs": [
    {
     "data": {
      "text/plain": [
       "3"
      ]
     },
     "execution_count": 8,
     "metadata": {},
     "output_type": "execute_result"
    }
   ],
   "source": [
    "items[1]"
   ]
  },
  {
   "cell_type": "code",
   "execution_count": 9,
   "id": "fee7aa39-298c-4a67-a05c-15870a7e39cb",
   "metadata": {},
   "outputs": [
    {
     "data": {
      "text/plain": [
       "[1, 9, 0, 4, 1]"
      ]
     },
     "execution_count": 9,
     "metadata": {},
     "output_type": "execute_result"
    }
   ],
   "source": [
    "items[1] = 9\n",
    "items"
   ]
  },
  {
   "cell_type": "code",
   "execution_count": 10,
   "id": "769e3d0b-5b8f-4f30-8ed8-f2b5a3bba0e0",
   "metadata": {},
   "outputs": [
    {
     "data": {
      "text/plain": [
       "[9, 0]"
      ]
     },
     "execution_count": 10,
     "metadata": {},
     "output_type": "execute_result"
    }
   ],
   "source": [
    "items[1:3]"
   ]
  },
  {
   "cell_type": "code",
   "execution_count": 11,
   "id": "62e4f34d-5752-4af0-87e9-83810227ecbc",
   "metadata": {},
   "outputs": [
    {
     "data": {
      "text/plain": [
       "2"
      ]
     },
     "execution_count": 11,
     "metadata": {},
     "output_type": "execute_result"
    }
   ],
   "source": [
    "tuple = (1, 2, 3)\n",
    "tuple[1]"
   ]
  },
  {
   "cell_type": "code",
   "execution_count": 13,
   "id": "2ab095bc-2b0c-40d0-bd6a-219b075581ce",
   "metadata": {},
   "outputs": [
    {
     "name": "stdout",
     "output_type": "stream",
     "text": [
      "a: 1111\n"
     ]
    }
   ],
   "source": [
    "dict = {'a': 1111, 'b': 2222, 'c': 3333}\n",
    "print('a:', dict['a'])"
   ]
  },
  {
   "cell_type": "code",
   "execution_count": 14,
   "id": "127a6034-88d1-4eba-80dc-7886d0177c36",
   "metadata": {},
   "outputs": [
    {
     "name": "stdout",
     "output_type": "stream",
     "text": [
      "dict_keys(['a', 'b', 'c'])\n"
     ]
    }
   ],
   "source": [
    "print(dict.keys())"
   ]
  },
  {
   "cell_type": "code",
   "execution_count": 17,
   "id": "370dddf0-f03e-4fbd-8b2a-1aa3daf90d37",
   "metadata": {},
   "outputs": [
    {
     "data": {
      "text/plain": [
       "{1, 3, 4}"
      ]
     },
     "execution_count": 17,
     "metadata": {},
     "output_type": "execute_result"
    }
   ],
   "source": [
    "my_set = set([1, 4, 3, 4, 1])\n",
    "my_set"
   ]
  },
  {
   "cell_type": "code",
   "execution_count": 18,
   "id": "af1cb76b-40f1-4036-aed2-e800c6ab38b5",
   "metadata": {},
   "outputs": [
    {
     "name": "stdout",
     "output_type": "stream",
     "text": [
      "1\n",
      "9\n",
      "0\n",
      "4\n",
      "1\n"
     ]
    }
   ],
   "source": [
    "for item in items:\n",
    "    print(item)"
   ]
  },
  {
   "cell_type": "code",
   "execution_count": 19,
   "id": "84ab0836-2957-4a7a-a325-482db01f14f4",
   "metadata": {},
   "outputs": [
    {
     "data": {
      "text/plain": [
       "[1, 81, 0, 16, 1]"
      ]
     },
     "execution_count": 19,
     "metadata": {},
     "output_type": "execute_result"
    }
   ],
   "source": [
    "squares = [item * item for item in items]\n",
    "squares"
   ]
  },
  {
   "cell_type": "code",
   "execution_count": 20,
   "id": "3da034ed-b5af-4917-a830-3ba81bf47c9c",
   "metadata": {},
   "outputs": [
    {
     "name": "stdout",
     "output_type": "stream",
     "text": [
      "0\n",
      "4\n"
     ]
    }
   ],
   "source": [
    "for item in items:\n",
    "    if item % 2 == 0:\n",
    "        print(item)"
   ]
  },
  {
   "cell_type": "code",
   "execution_count": 21,
   "id": "605dce5a-efe5-467b-a811-e98ca910e4a4",
   "metadata": {},
   "outputs": [
    {
     "data": {
      "text/plain": [
       "[0, 4]"
      ]
     },
     "execution_count": 21,
     "metadata": {},
     "output_type": "execute_result"
    }
   ],
   "source": [
    "even = [item for item in items if item % 2 == 0]\n",
    "even"
   ]
  },
  {
   "cell_type": "code",
   "execution_count": 23,
   "id": "89dc01a7-2984-4843-a8ae-0e087dac9d12",
   "metadata": {},
   "outputs": [],
   "source": [
    "def is_even(number):\n",
    "    \"\"\"Return whether an integer is even or not.\"\"\"\n",
    "    return number % 2 == 0"
   ]
  },
  {
   "cell_type": "code",
   "execution_count": 24,
   "id": "0251f17e-d760-457a-bbef-3a8eed58e783",
   "metadata": {},
   "outputs": [
    {
     "data": {
      "text/plain": [
       "False"
      ]
     },
     "execution_count": 24,
     "metadata": {},
     "output_type": "execute_result"
    }
   ],
   "source": [
    "is_even(33)"
   ]
  },
  {
   "cell_type": "code",
   "execution_count": 25,
   "id": "62e21ff6-a4bf-433a-95ba-e0a236c6e482",
   "metadata": {},
   "outputs": [
    {
     "data": {
      "text/plain": [
       "True"
      ]
     },
     "execution_count": 25,
     "metadata": {},
     "output_type": "execute_result"
    }
   ],
   "source": [
    "is_even(66)"
   ]
  },
  {
   "cell_type": "code",
   "execution_count": 26,
   "id": "0d4ac65d-6bb8-4033-ba18-b20da76fedc1",
   "metadata": {},
   "outputs": [],
   "source": [
    "def remainder(number, divisor=2):\n",
    "    return number % divisor"
   ]
  },
  {
   "cell_type": "code",
   "execution_count": 27,
   "id": "991ff28d-afd4-4fae-af51-7a2e0ee31ea2",
   "metadata": {},
   "outputs": [
    {
     "data": {
      "text/plain": [
       "1"
      ]
     },
     "execution_count": 27,
     "metadata": {},
     "output_type": "execute_result"
    }
   ],
   "source": [
    "remainder(5)"
   ]
  },
  {
   "cell_type": "code",
   "execution_count": 28,
   "id": "8ac871a0-8c57-408a-844e-9fc3f98dcedc",
   "metadata": {},
   "outputs": [
    {
     "data": {
      "text/plain": [
       "1"
      ]
     },
     "execution_count": 28,
     "metadata": {},
     "output_type": "execute_result"
    }
   ],
   "source": [
    "remainder(3)"
   ]
  },
  {
   "cell_type": "code",
   "execution_count": 32,
   "id": "32bef227-dde3-4e82-870d-8b61686e09d9",
   "metadata": {},
   "outputs": [
    {
     "data": {
      "text/plain": [
       "1"
      ]
     },
     "execution_count": 32,
     "metadata": {},
     "output_type": "execute_result"
    }
   ],
   "source": [
    "remainder(9)"
   ]
  },
  {
   "cell_type": "code",
   "execution_count": 33,
   "id": "45088b33-d111-4343-b469-82da4d673d5c",
   "metadata": {},
   "outputs": [
    {
     "data": {
      "text/plain": [
       "2"
      ]
     },
     "execution_count": 33,
     "metadata": {},
     "output_type": "execute_result"
    }
   ],
   "source": [
    "remainder(5, 3)"
   ]
  },
  {
   "cell_type": "code",
   "execution_count": 35,
   "id": "6ac0eefc-525f-415c-acbd-2f4712811786",
   "metadata": {},
   "outputs": [
    {
     "data": {
      "text/plain": [
       "1"
      ]
     },
     "execution_count": 35,
     "metadata": {},
     "output_type": "execute_result"
    }
   ],
   "source": [
    "remainder(5, divisor=4)"
   ]
  },
  {
   "cell_type": "code",
   "execution_count": 36,
   "id": "4b93ba0c-1fa7-4774-a5e7-78fca64a1fa3",
   "metadata": {},
   "outputs": [],
   "source": [
    "def f(*args, **kwargs):\n",
    "    print(\"Positional arguments:\", args)\n",
    "    print(\"Keyword arguments:\", kwargs)"
   ]
  },
  {
   "cell_type": "code",
   "execution_count": 37,
   "id": "9b4443d9-ce23-476a-b6f9-c9dc6ab5efcd",
   "metadata": {},
   "outputs": [
    {
     "name": "stdout",
     "output_type": "stream",
     "text": [
      "Positional arguments: (1, 2)\n",
      "Keyword arguments: {'c': 3, 'd': 4}\n"
     ]
    }
   ],
   "source": [
    "f(1, 2, c=3, d=4)"
   ]
  },
  {
   "cell_type": "code",
   "execution_count": 38,
   "id": "d1eccc9c-b936-4311-86c7-9cf2f914a18a",
   "metadata": {},
   "outputs": [
    {
     "data": {
      "text/plain": [
       "[1, 2, 3]"
      ]
     },
     "execution_count": 38,
     "metadata": {},
     "output_type": "execute_result"
    }
   ],
   "source": [
    "my_list = [1, 2]\n",
    "\n",
    "def add(some_list, value):\n",
    "    some_list.append(value)\n",
    "\n",
    "add(my_list, 3)\n",
    "my_list"
   ]
  },
  {
   "cell_type": "code",
   "execution_count": 40,
   "id": "ebba2ed9-c83f-4de7-b2ed-5c9d9ea50f7c",
   "metadata": {},
   "outputs": [
    {
     "data": {
      "text/plain": [
       "[1, 2, 3, 5, 5]"
      ]
     },
     "execution_count": 40,
     "metadata": {},
     "output_type": "execute_result"
    }
   ],
   "source": [
    "add(my_list, 5)\n",
    "my_list"
   ]
  },
  {
   "cell_type": "code",
   "execution_count": 41,
   "id": "704501db-1f1c-4f77-8249-01aeed859256",
   "metadata": {},
   "outputs": [],
   "source": [
    "def divide(a, b):\n",
    "    return a / b"
   ]
  },
  {
   "cell_type": "code",
   "execution_count": 42,
   "id": "1c69ea74-10a2-459f-a67e-135e5d6588ad",
   "metadata": {},
   "outputs": [
    {
     "ename": "ZeroDivisionError",
     "evalue": "division by zero",
     "output_type": "error",
     "traceback": [
      "\u001b[1;31m---------------------------------------------------------------------------\u001b[0m",
      "\u001b[1;31mZeroDivisionError\u001b[0m                         Traceback (most recent call last)",
      "Cell \u001b[1;32mIn[42], line 1\u001b[0m\n\u001b[1;32m----> 1\u001b[0m divide(\u001b[38;5;241m1\u001b[39m, \u001b[38;5;241m0\u001b[39m)\n",
      "Cell \u001b[1;32mIn[41], line 2\u001b[0m, in \u001b[0;36mdivide\u001b[1;34m(a, b)\u001b[0m\n\u001b[0;32m      1\u001b[0m \u001b[38;5;28;01mdef\u001b[39;00m \u001b[38;5;21mdivide\u001b[39m(a, b):\n\u001b[1;32m----> 2\u001b[0m     \u001b[38;5;28;01mreturn\u001b[39;00m a \u001b[38;5;241m/\u001b[39m b\n",
      "\u001b[1;31mZeroDivisionError\u001b[0m: division by zero"
     ]
    }
   ],
   "source": [
    "divide(1, 0)"
   ]
  },
  {
   "cell_type": "code",
   "execution_count": 43,
   "id": "3145b143-7ed0-4504-883f-66e9f60136f9",
   "metadata": {},
   "outputs": [
    {
     "data": {
      "text/plain": [
       "str"
      ]
     },
     "execution_count": 43,
     "metadata": {},
     "output_type": "execute_result"
    }
   ],
   "source": [
    "type('hello')"
   ]
  },
  {
   "cell_type": "code",
   "execution_count": 44,
   "id": "6b02cfee-a927-4d5c-a0f3-9abfdfb97c76",
   "metadata": {},
   "outputs": [
    {
     "ename": "NameError",
     "evalue": "name 'hello' is not defined",
     "output_type": "error",
     "traceback": [
      "\u001b[1;31m---------------------------------------------------------------------------\u001b[0m",
      "\u001b[1;31mNameError\u001b[0m                                 Traceback (most recent call last)",
      "Cell \u001b[1;32mIn[44], line 1\u001b[0m\n\u001b[1;32m----> 1\u001b[0m \u001b[38;5;28mtype\u001b[39m(hello)\n",
      "\u001b[1;31mNameError\u001b[0m: name 'hello' is not defined"
     ]
    }
   ],
   "source": [
    "type(hello)"
   ]
  },
  {
   "cell_type": "code",
   "execution_count": 45,
   "id": "72e35adb-d941-42a7-875c-1d9870339800",
   "metadata": {},
   "outputs": [
    {
     "data": {
      "text/plain": [
       "int"
      ]
     },
     "execution_count": 45,
     "metadata": {},
     "output_type": "execute_result"
    }
   ],
   "source": [
    "type(23)"
   ]
  },
  {
   "cell_type": "code",
   "execution_count": 46,
   "id": "533b984a-614f-4448-95b3-2b05a7afdd3e",
   "metadata": {},
   "outputs": [
    {
     "data": {
      "text/plain": [
       "float"
      ]
     },
     "execution_count": 46,
     "metadata": {},
     "output_type": "execute_result"
    }
   ],
   "source": [
    "type(23.4)"
   ]
  },
  {
   "cell_type": "code",
   "execution_count": 48,
   "id": "9991fac0-59a5-4377-80e7-a86521794858",
   "metadata": {},
   "outputs": [
    {
     "data": {
      "text/plain": [
       "'HELLO'"
      ]
     },
     "execution_count": 48,
     "metadata": {},
     "output_type": "execute_result"
    }
   ],
   "source": [
    "'hello'.upper()\n"
   ]
  },
  {
   "cell_type": "code",
   "execution_count": 49,
   "id": "c754af4f-9f04-48ef-995d-50699ca25587",
   "metadata": {},
   "outputs": [
    {
     "data": {
      "text/plain": [
       "'Hello Python!'"
      ]
     },
     "execution_count": 49,
     "metadata": {},
     "output_type": "execute_result"
    }
   ],
   "source": [
    "'Hello {0:s}!'.format('Python')"
   ]
  },
  {
   "cell_type": "code",
   "execution_count": 50,
   "id": "7d34a276-cd85-4cf9-8693-571d9e497859",
   "metadata": {},
   "outputs": [],
   "source": [
    "def show_output(func):\n",
    "    def wrapped(*args, **kwargs):\n",
    "        output = func(*args, **kwargs)\n",
    "        print(\"The result is:\", output)\n",
    "    return wrapped"
   ]
  },
  {
   "cell_type": "code",
   "execution_count": 51,
   "id": "3e47d9af-4510-42b3-bf9a-5e6cff5c095b",
   "metadata": {},
   "outputs": [
    {
     "name": "stdout",
     "output_type": "stream",
     "text": [
      "The result is: False\n"
     ]
    }
   ],
   "source": [
    "f = show_output(is_even)\n",
    "f(3)"
   ]
  },
  {
   "cell_type": "code",
   "execution_count": 52,
   "id": "94b71371-a595-4660-ab56-b91d47f7a341",
   "metadata": {},
   "outputs": [],
   "source": [
    "@show_output\n",
    "def square(x):\n",
    "    return x * x"
   ]
  },
  {
   "cell_type": "code",
   "execution_count": 53,
   "id": "3610ed4c-c074-4022-bf09-716f6545f9de",
   "metadata": {},
   "outputs": [
    {
     "name": "stdout",
     "output_type": "stream",
     "text": [
      "The result is: 9\n"
     ]
    }
   ],
   "source": [
    "square(3)"
   ]
  },
  {
   "cell_type": "code",
   "execution_count": 54,
   "id": "d3ca4e0f-e441-4023-8a2f-41c7887e8272",
   "metadata": {},
   "outputs": [
    {
     "name": "stdout",
     "output_type": "stream",
     "text": [
      "The result is: 144\n"
     ]
    }
   ],
   "source": [
    "square(12)"
   ]
  },
  {
   "cell_type": "code",
   "execution_count": 55,
   "id": "09f9ee17-0137-4752-b318-af3eaf20e71e",
   "metadata": {},
   "outputs": [
    {
     "name": "stdout",
     "output_type": "stream",
     "text": [
      "The result is: 10.889999999999999\n"
     ]
    }
   ],
   "source": [
    "square(3.3)"
   ]
  },
  {
   "cell_type": "code",
   "execution_count": null,
   "id": "69ee396c-56a7-43c8-9b3e-b41d4264b07c",
   "metadata": {},
   "outputs": [],
   "source": []
  }
 ],
 "metadata": {
  "kernelspec": {
   "display_name": "Python 3 (ipykernel)",
   "language": "python",
   "name": "python3"
  },
  "language_info": {
   "codemirror_mode": {
    "name": "ipython",
    "version": 3
   },
   "file_extension": ".py",
   "mimetype": "text/x-python",
   "name": "python",
   "nbconvert_exporter": "python",
   "pygments_lexer": "ipython3",
   "version": "3.11.7"
  }
 },
 "nbformat": 4,
 "nbformat_minor": 5
}
